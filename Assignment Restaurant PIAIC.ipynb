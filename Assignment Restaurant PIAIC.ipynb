{
 "cells": [
  {
   "cell_type": "code",
   "execution_count": 43,
   "metadata": {},
   "outputs": [],
   "source": [
    "#Q1 & Q2\n",
    "class Restuarant():\n",
    "    sbold='\\033[1m'\n",
    "    ebold='\\033[0m'\n",
    "    def __init__(self,name,food):\n",
    "            self.restaurant_name=name\n",
    "            self.cuisine_name=food            \n",
    "          # self.cuisine=food\n",
    "    def describe_Restaurant(self):\n",
    "        print(\"I like this \"+Restuarant.sbold+\"'\" +   self.cuisine_name + \"' \"+Restuarant.ebold+\" of the \"+ self.restaurant_name)\n",
    "    def IsOpen(self):\n",
    "        print(\"Restaurant is open\")"
   ]
  },
  {
   "cell_type": "code",
   "execution_count": 44,
   "metadata": {
    "scrolled": true
   },
   "outputs": [
    {
     "name": "stdout",
     "output_type": "stream",
     "text": [
      "I like this \u001b[1m'Javed ki nihari' \u001b[0m of the JavedShop\n",
      "Restaurant is open\n"
     ]
    }
   ],
   "source": [
    "R1=Restuarant(\"JavedShop\",\"Javed ki nihari\")\n",
    "R1.describe_Restaurant()\n",
    "R1.IsOpen()"
   ]
  },
  {
   "cell_type": "code",
   "execution_count": 45,
   "metadata": {},
   "outputs": [],
   "source": [
    "R2=Restuarant(\"KhuwajaShop\",\"Khuwaja ki nihari\")\n",
    "R3=Restuarant(\"TayyabShop\",\"Tayyab ki nihari\")"
   ]
  },
  {
   "cell_type": "code",
   "execution_count": 46,
   "metadata": {},
   "outputs": [
    {
     "name": "stdout",
     "output_type": "stream",
     "text": [
      "I like this \u001b[1m'Javed ki nihari' \u001b[0m of the JavedShop\n",
      "I like this \u001b[1m'Khuwaja ki nihari' \u001b[0m of the KhuwajaShop\n",
      "I like this \u001b[1m'Tayyab ki nihari' \u001b[0m of the TayyabShop\n"
     ]
    }
   ],
   "source": [
    "R1.describe_Restaurant()\n",
    "R2.describe_Restaurant()\n",
    "R3.describe_Restaurant()"
   ]
  },
  {
   "cell_type": "code",
   "execution_count": null,
   "metadata": {},
   "outputs": [],
   "source": [
    "#Q3"
   ]
  },
  {
   "cell_type": "code",
   "execution_count": 32,
   "metadata": {},
   "outputs": [],
   "source": [
    "class User:    \n",
    "    UNDERLINE = '\\033[4m'\n",
    "    ebold='\\033[0m'\n",
    "    def __init__(self,fname,lname,dob,address,NIC_number,phone_number,email_address,city):\n",
    "        self._fname=fname\n",
    "        self._lname=lname\n",
    "        self._dob=dob\n",
    "        self._address=address\n",
    "        self._NIC_number=NIC_number\n",
    "        self._phone_number=phone_number\n",
    "        self._email_address=email_address\n",
    "        self._city=city\n",
    "        \n",
    "    def describe_user(self):\n",
    "        print(\"This user's name is '\"+(self._fname+\" \" +self._lname).title()+ \"', his/ her date of birth is : \"+\n",
    "              self._dob+\", address \"+self._NIC_number+\", phone number is : \"+\n",
    "              self._phone_number+\", email address is :\"+ self._email_address+\"city is :\"+self._city+\"\")"
   ]
  },
  {
   "cell_type": "code",
   "execution_count": 36,
   "metadata": {},
   "outputs": [],
   "source": [
    "User1=User(\"waqar\",\"Naeem\",\"16th Dec\",\"Johar\",\"343432\",\"4222222\",\"waqar.naeem@Live.com\",\"Karachi\")\n",
    "User2=User(\"Talha\",\"altaf\",\"12th Dec\",\"Johar2\",\"2434332\",\"43243\",\"waqar.naeem@Live.com\",\"Karachi\")\n",
    "User3=User(\"Waji\",\"nasir\",\"14th Dec\",\"Johar3\",\"5456454\",\"34323\",\"waqar.naeem@Live.com\",\"Karachi\")\n",
    "User4=User(\"sameer\",\"aMjad\",\"25th Dec\",\"Johar4\",\"324343\",\"34324\",\"waqar.naeem@Live.com\",\"Karachi\")"
   ]
  },
  {
   "cell_type": "code",
   "execution_count": 37,
   "metadata": {},
   "outputs": [
    {
     "name": "stdout",
     "output_type": "stream",
     "text": [
      "This user's name is 'Waqar Naeem', his/ her date of birth is : 16th Dec, address 343432, phone number is : 4222222, email address is :waqar.naeem@Live.comcity is :Karachi\n",
      "This user's name is 'Talha Altaf', his/ her date of birth is : 12th Dec, address 2434332, phone number is : 43243, email address is :waqar.naeem@Live.comcity is :Karachi\n",
      "This user's name is 'Waji Nasir', his/ her date of birth is : 14th Dec, address 5456454, phone number is : 34323, email address is :waqar.naeem@Live.comcity is :Karachi\n",
      "This user's name is 'Sameer Amjad', his/ her date of birth is : 25th Dec, address 324343, phone number is : 34324, email address is :waqar.naeem@Live.comcity is :Karachi\n"
     ]
    }
   ],
   "source": [
    "User1.describe_user()\n",
    "User2.describe_user()\n",
    "User3.describe_user()\n",
    "User4.describe_user()"
   ]
  },
  {
   "cell_type": "code",
   "execution_count": null,
   "metadata": {},
   "outputs": [],
   "source": []
  }
 ],
 "metadata": {
  "kernelspec": {
   "display_name": "Python 3",
   "language": "python",
   "name": "python3"
  },
  "language_info": {
   "codemirror_mode": {
    "name": "ipython",
    "version": 3
   },
   "file_extension": ".py",
   "mimetype": "text/x-python",
   "name": "python",
   "nbconvert_exporter": "python",
   "pygments_lexer": "ipython3",
   "version": "3.7.0"
  }
 },
 "nbformat": 4,
 "nbformat_minor": 2
}
