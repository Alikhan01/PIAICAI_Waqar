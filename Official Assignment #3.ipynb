{
 "cells": [
  {
   "cell_type": "markdown",
   "metadata": {},
   "source": [
    "# Q1:"
   ]
  },
  {
   "cell_type": "markdown",
   "metadata": {},
   "source": [
    "Think of at least three kinds of your favorite pizza. Store these pizza names in a list, and then use a for loop to print the name of each pizza."
   ]
  },
  {
   "cell_type": "code",
   "execution_count": 1,
   "metadata": {},
   "outputs": [],
   "source": [
    "UNDERLINE = '\\033[4m'\n",
    "ebold ='\\033[0m'"
   ]
  },
  {
   "cell_type": "code",
   "execution_count": 2,
   "metadata": {},
   "outputs": [],
   "source": [
    "lstPizza = ['Simple Pizza','Chicken Tikka Pizza','Fajita Pizza']\n",
    "#='\\033[4m'"
   ]
  },
  {
   "cell_type": "code",
   "execution_count": 3,
   "metadata": {},
   "outputs": [
    {
     "name": "stdout",
     "output_type": "stream",
     "text": [
      "Simple Pizza\n",
      "Chicken Tikka Pizza\n",
      "Fajita Pizza\n"
     ]
    }
   ],
   "source": [
    "for pizza in lstPizza:\n",
    "    print(pizza)"
   ]
  },
  {
   "cell_type": "code",
   "execution_count": null,
   "metadata": {},
   "outputs": [],
   "source": []
  },
  {
   "cell_type": "markdown",
   "metadata": {},
   "source": [
    "# Q2"
   ]
  },
  {
   "cell_type": "markdown",
   "metadata": {},
   "source": [
    "Start with your last question , Modify your for loop to print a sentence using the name of the pizza\n",
    "instead of printing just the name of the pizza. For each pizza you should\n",
    "have one line of output containing a simple statement like I like pepperoni\n",
    "pizza."
   ]
  },
  {
   "cell_type": "code",
   "execution_count": 4,
   "metadata": {},
   "outputs": [
    {
     "name": "stdout",
     "output_type": "stream",
     "text": [
      "I like \u001b[4mSimple Pizza\u001b[0m, it is too tasty\n",
      "I like \u001b[4mChicken Tikka Pizza\u001b[0m, it is too tasty\n",
      "I like \u001b[4mFajita Pizza\u001b[0m, it is too tasty\n"
     ]
    }
   ],
   "source": [
    "for pizza in lstPizza:\n",
    "    print(\"I like \"+ UNDERLINE + pizza + ebold +  \", it is too tasty\")"
   ]
  },
  {
   "cell_type": "code",
   "execution_count": null,
   "metadata": {},
   "outputs": [],
   "source": []
  },
  {
   "cell_type": "code",
   "execution_count": null,
   "metadata": {},
   "outputs": [],
   "source": []
  },
  {
   "cell_type": "markdown",
   "metadata": {},
   "source": [
    "# Q3:"
   ]
  },
  {
   "cell_type": "markdown",
   "metadata": {},
   "source": [
    "Use a for loop to print the numbers from 1 to 20,\n",
    "inclusive."
   ]
  },
  {
   "cell_type": "code",
   "execution_count": 5,
   "metadata": {},
   "outputs": [
    {
     "name": "stdout",
     "output_type": "stream",
     "text": [
      "1 2 3 4 5 6 7 8 9 10 11 12 13 14 15 16 17 18 19 20 "
     ]
    }
   ],
   "source": [
    "for a in range (1, 21):\n",
    "    print(a, end=\" \")"
   ]
  },
  {
   "cell_type": "code",
   "execution_count": null,
   "metadata": {},
   "outputs": [],
   "source": []
  },
  {
   "cell_type": "code",
   "execution_count": null,
   "metadata": {},
   "outputs": [],
   "source": []
  },
  {
   "cell_type": "markdown",
   "metadata": {},
   "source": [
    "# Q4:"
   ]
  },
  {
   "cell_type": "markdown",
   "metadata": {},
   "source": [
    "Use the third argument of the range() function to make a list\n",
    "of the odd numbers from 1 to 20. Use a for loop to print each number."
   ]
  },
  {
   "cell_type": "code",
   "execution_count": 6,
   "metadata": {},
   "outputs": [
    {
     "name": "stdout",
     "output_type": "stream",
     "text": [
      "1 3 5 7 9 11 13 15 17 19 "
     ]
    }
   ],
   "source": [
    "for a in range (1, 20, 2):\n",
    "    print(a, end=\" \")"
   ]
  },
  {
   "cell_type": "code",
   "execution_count": null,
   "metadata": {},
   "outputs": [],
   "source": []
  },
  {
   "cell_type": "code",
   "execution_count": null,
   "metadata": {},
   "outputs": [],
   "source": []
  },
  {
   "cell_type": "markdown",
   "metadata": {},
   "source": [
    "# Q5:"
   ]
  },
  {
   "cell_type": "markdown",
   "metadata": {},
   "source": [
    "Make a list of the multiples of 3 from 3 to 30. Use a for loop to\n",
    "print the numbers in your list."
   ]
  },
  {
   "cell_type": "markdown",
   "metadata": {},
   "source": []
  },
  {
   "cell_type": "code",
   "execution_count": 7,
   "metadata": {},
   "outputs": [
    {
     "name": "stdout",
     "output_type": "stream",
     "text": [
      "3 6 9 12 15 18 21 24 27 30 "
     ]
    }
   ],
   "source": [
    "for i in range(0,30,3):\n",
    "    print(i+3,end = \" \")"
   ]
  },
  {
   "cell_type": "code",
   "execution_count": null,
   "metadata": {},
   "outputs": [],
   "source": []
  },
  {
   "cell_type": "code",
   "execution_count": null,
   "metadata": {},
   "outputs": [],
   "source": []
  },
  {
   "cell_type": "markdown",
   "metadata": {},
   "source": [
    "# Q6:"
   ]
  },
  {
   "cell_type": "markdown",
   "metadata": {},
   "source": [
    "A number raised to the third power is called a cube. For example,\n",
    "the cube of 2 is written as 2**3 in Python. Make a list of the first 10 cubes (that\n",
    "is, the cube of each integer from 1 through 10), and use a for loop to print out\n",
    "the value of each cube"
   ]
  },
  {
   "cell_type": "code",
   "execution_count": 11,
   "metadata": {},
   "outputs": [
    {
     "name": "stdout",
     "output_type": "stream",
     "text": [
      "1\n",
      "8\n",
      "27\n",
      "64\n",
      "125\n",
      "216\n",
      "343\n",
      "512\n",
      "729\n",
      "1000\n"
     ]
    }
   ],
   "source": [
    "cubes = []\n",
    "n=1\n",
    "while n<11:\n",
    "    cubes=n**3 \n",
    "    n+=1\n",
    "    print(cubes)"
   ]
  },
  {
   "cell_type": "code",
   "execution_count": null,
   "metadata": {},
   "outputs": [],
   "source": []
  },
  {
   "cell_type": "code",
   "execution_count": null,
   "metadata": {},
   "outputs": [],
   "source": []
  },
  {
   "cell_type": "code",
   "execution_count": null,
   "metadata": {},
   "outputs": [],
   "source": []
  },
  {
   "cell_type": "markdown",
   "metadata": {},
   "source": [
    "# Q7:"
   ]
  },
  {
   "cell_type": "markdown",
   "metadata": {},
   "source": [
    "###### Make a python program that conatains your nine favourite dishes in a list called foods.\n",
    "\n",
    "###### Print the message, The first three items in the list are:. \n",
    "###### Then use a slice to print the first three items from that program’s list.\n",
    "\n",
    "###### Print the message, Three items from the middle of the list are:\n",
    "###### Use a slice to print three items from the middle of the list.\n",
    "\n",
    "###### Print the message, The last three items in the list are:\n",
    "###### Use a slice to print the last three items in the list."
   ]
  },
  {
   "cell_type": "code",
   "execution_count": 7,
   "metadata": {},
   "outputs": [],
   "source": [
    "cuisine = ['biryani','pulao','chicken tikka','white karahi','paya','haleem','katakat','Qeema','Kofta']"
   ]
  },
  {
   "cell_type": "code",
   "execution_count": 33,
   "metadata": {},
   "outputs": [
    {
     "name": "stdout",
     "output_type": "stream",
     "text": [
      "The first three items in the list are :\n",
      " ['biryani', 'pulao', 'chicken tikka']\n"
     ]
    }
   ],
   "source": [
    "initialthreeCuisine=cuisine[0:3]\n",
    "print('The first three items in the list are :\\n',initialthreeCuisine)"
   ]
  },
  {
   "cell_type": "code",
   "execution_count": 46,
   "metadata": {},
   "outputs": [
    {
     "name": "stdout",
     "output_type": "stream",
     "text": [
      "Three items from the middle of the list are :\n",
      " ['white karahi', 'paya', 'haleem']\n"
     ]
    }
   ],
   "source": [
    "#lstlenght=len(cuisine)\n",
    "MediumthreeCuisine=cuisine[3:6]\n",
    "print('Three items from the middle of the list are :\\n', MediumthreeCuisine)"
   ]
  },
  {
   "cell_type": "code",
   "execution_count": 48,
   "metadata": {},
   "outputs": [
    {
     "name": "stdout",
     "output_type": "stream",
     "text": [
      "The first three items in the list are :\n",
      " ['katakat', 'Qeema', 'Kofta']\n"
     ]
    }
   ],
   "source": [
    "lastthreeCuisine=cuisine[6:]\n",
    "print('The first three items in the list are :\\n',lastthreeCuisine)"
   ]
  },
  {
   "cell_type": "code",
   "execution_count": null,
   "metadata": {},
   "outputs": [],
   "source": []
  },
  {
   "cell_type": "code",
   "execution_count": null,
   "metadata": {},
   "outputs": [],
   "source": []
  },
  {
   "cell_type": "code",
   "execution_count": null,
   "metadata": {},
   "outputs": [],
   "source": []
  },
  {
   "cell_type": "markdown",
   "metadata": {},
   "source": [
    "# Q8:"
   ]
  },
  {
   "cell_type": "raw",
   "metadata": {},
   "source": [
    " Start with your program from your last Question8.\n",
    " Make a copy of the list of foods, and call it friend_foods.\n",
    " Then, do the following:\n",
    "    Add a new dish to the original list.\n",
    "    Add a different dish to the list friend_foodss.\n",
    "    Prove that you have two separate lists. \n",
    " Print the message, My favorite pizzas are: and then use a for loop to print the first list. \n",
    " Print the message,\n",
    " My friend’s favorite foods are:, and then use a for loop to print the second list.\n",
    "    \n",
    " NOTE: Make sure each new dish is stored in the appropriate list."
   ]
  },
  {
   "cell_type": "code",
   "execution_count": 18,
   "metadata": {},
   "outputs": [
    {
     "name": "stdout",
     "output_type": "stream",
     "text": [
      "['biryani', 'pulao', 'chicken tikka', 'white karahi', 'paya', 'haleem', 'katakat', 'Qeema', 'Kofta']\n",
      "['biryani', 'pulao', 'chicken tikka', 'white karahi', 'paya', 'haleem', 'katakat', 'Qeema', 'Kofta', 'khichri']\n",
      "['biryani', 'pulao', 'chicken tikka', 'white karahi', 'paya', 'haleem', 'katakat', 'Qeema', 'Kofta', 'tihari']\n"
     ]
    }
   ],
   "source": [
    "friends_food  = ['biryani','pulao','chicken tikka','white karahi','paya','haleem','katakat','Qeema','Kofta']\n",
    "cusinecopy=friends_food.copy()\n",
    "print(cusinecopy)\n",
    "friends_food.append(\"khichri\")\n",
    "print(cuisine)\n",
    "cusinecopy.append(\"tihari\")\n",
    "print(cusinecopy)"
   ]
  },
  {
   "cell_type": "code",
   "execution_count": 24,
   "metadata": {},
   "outputs": [
    {
     "name": "stdout",
     "output_type": "stream",
     "text": [
      "\u001b[1mMy favorite pizzas are: \u001b[0m\n",
      "biryani\n",
      "pulao\n",
      "chicken tikka\n",
      "white karahi\n",
      "paya\n",
      "haleem\n",
      "katakat\n",
      "Qeema\n",
      "Kofta\n",
      "khichri\n",
      "\u001b[1mMy friend’s favorite foods are:\u001b[0m\n",
      "biryani\n",
      "pulao\n",
      "chicken tikka\n",
      "white karahi\n",
      "paya\n",
      "haleem\n",
      "katakat\n",
      "Qeema\n",
      "Kofta\n",
      "tihari\n"
     ]
    }
   ],
   "source": [
    "sbold='\\033[1m'\n",
    "ebold='\\033[0m'\n",
    "print(sbold +\"My favorite pizzas are: \" +ebold)\n",
    "n=0\n",
    "while n<len(friends_food):\n",
    "    print(friends_food[n])\n",
    "    n+=1\n",
    "n=0\n",
    "print(sbold+ \"My friend’s favorite foods are:\"+ebold)\n",
    "while n<len(cusinecopy):\n",
    "    print(cusinecopy[n])\n",
    "    n+=1"
   ]
  },
  {
   "cell_type": "code",
   "execution_count": null,
   "metadata": {},
   "outputs": [],
   "source": []
  },
  {
   "cell_type": "code",
   "execution_count": null,
   "metadata": {},
   "outputs": [],
   "source": []
  },
  {
   "cell_type": "code",
   "execution_count": null,
   "metadata": {},
   "outputs": [],
   "source": []
  },
  {
   "cell_type": "code",
   "execution_count": null,
   "metadata": {},
   "outputs": [],
   "source": [
    " "
   ]
  },
  {
   "cell_type": "code",
   "execution_count": null,
   "metadata": {},
   "outputs": [],
   "source": []
  },
  {
   "cell_type": "markdown",
   "metadata": {},
   "source": [
    "# Q9:"
   ]
  },
  {
   "cell_type": "markdown",
   "metadata": {},
   "source": [
    "Take a user input from console line.Store it in a variable called Alien_color.\n",
    "\n",
    "If the alien’s color is red, print a statement that the player just earned 5 points for shooting the alien.\n",
    "\n",
    "If the alien’s color isn’t green, print a statement that the player just earned 10 points.\n",
    "\n",
    "If the alien's color isn't red or green , print a statment :, Alien is no more....."
   ]
  },
  {
   "cell_type": "code",
   "execution_count": 10,
   "metadata": {},
   "outputs": [
    {
     "name": "stdout",
     "output_type": "stream",
     "text": [
      "Enter the color of Alienred\n",
      "Player earned 5 points\n"
     ]
    }
   ],
   "source": [
    "Alien_color= input(\"Enter the color of Alien\").lower()\n",
    "if Alien_color=='red':\n",
    "    print(\"Player earned 5 points\")\n",
    "elif Alien_color!=\"green\":\n",
    "    print(\"Player earned 10 points\")\n",
    "elif Alien_color!=(\"red\" or \"green\"):\n",
    "    print(\"Alien is no more\")"
   ]
  },
  {
   "cell_type": "code",
   "execution_count": null,
   "metadata": {},
   "outputs": [],
   "source": []
  },
  {
   "cell_type": "code",
   "execution_count": null,
   "metadata": {},
   "outputs": [],
   "source": []
  },
  {
   "cell_type": "code",
   "execution_count": null,
   "metadata": {},
   "outputs": [],
   "source": []
  },
  {
   "cell_type": "markdown",
   "metadata": {},
   "source": [
    "# Q10:"
   ]
  },
  {
   "cell_type": "markdown",
   "metadata": {},
   "source": [
    "Write an if-elif-else chain that determines a person’s\n",
    "stage of life. Set a value for the variable age, and then:\n",
    "    \n",
    "•\t If the person is less than 2 years old, print a message that the person is a baby.\n",
    "\n",
    "•\t If the person is at least 2 years old but less than 4, print a message that the person is a toddler.\n",
    "\n",
    "•\t If the person is at least 4 years old but less than 13, print a message that the person is a kid.\n",
    "\n",
    "•\t If the person is at least 13 years old but less than 20, print a message that the person is a teenager.\n",
    "\n",
    "•\t If the person is at least 20 years old but less than 65, print a message that the person is an adult.\n",
    "\n",
    "•\t If the person is age 65 or older, print a message that the person is an elder."
   ]
  },
  {
   "cell_type": "code",
   "execution_count": 7,
   "metadata": {},
   "outputs": [
    {
     "name": "stdout",
     "output_type": "stream",
     "text": [
      "Enter the person age!! 3\n",
      "The person is a kid\n"
     ]
    }
   ],
   "source": [
    "age= int(input(\"Enter the person age!! \"))\n",
    "if age < 2:\n",
    "    print(\"The person is a baby\") \n",
    "elif age >= 2 and age < 4:\n",
    "    print(\"The person is a kid\") \n",
    "elif age >= 4 and age < 13:\n",
    "    print(\"The person is a teenager\")\n",
    "elif age >= 13 and age < 20:\n",
    "    print(\"The person is a adult\")\n",
    "elif age >= 20 and age < 65:\n",
    "    print(\"The person is a adult\")\n",
    "elif age >= 65:\n",
    "    print(\"The person is a elder\")\n"
   ]
  },
  {
   "cell_type": "code",
   "execution_count": null,
   "metadata": {},
   "outputs": [],
   "source": []
  },
  {
   "cell_type": "code",
   "execution_count": null,
   "metadata": {},
   "outputs": [],
   "source": []
  },
  {
   "cell_type": "code",
   "execution_count": null,
   "metadata": {},
   "outputs": [],
   "source": []
  },
  {
   "cell_type": "code",
   "execution_count": null,
   "metadata": {},
   "outputs": [],
   "source": []
  },
  {
   "cell_type": "markdown",
   "metadata": {},
   "source": [
    "# Q11:"
   ]
  },
  {
   "cell_type": "markdown",
   "metadata": {},
   "source": [
    "Do the following to create a program that simulates how websites ensure that everyone has a unique username.\n",
    "\n",
    "•\t Make a list of five or more usernames called current_users.\n",
    "\n",
    "•\t Make another list of five usernames called new_users. \n",
    "Make sure one or two of the new usernames are also in the current_users list.\n",
    "\n",
    "•\t Loop through the new_users list to see if each new username has already been used. \n",
    "If it has, print a message that the person will need to enter a new username. \n",
    "If a username has not been used, print a message saying that the username is available.\n",
    "\n",
    "•\t Make sure your comparison is case insensitive. If 'John' has been used, 'JOHN' should not be accepted."
   ]
  },
  {
   "cell_type": "code",
   "execution_count": 10,
   "metadata": {},
   "outputs": [],
   "source": [
    "current_users = ['asif', 'ali', 'umair', 'khan', 'khurram']\n",
    "new_users =  ['azaan', 'khan', 'bilal', 'yousuf', 'khurram']"
   ]
  },
  {
   "cell_type": "code",
   "execution_count": 13,
   "metadata": {},
   "outputs": [
    {
     "name": "stdout",
     "output_type": "stream",
     "text": [
      "User is available\n",
      "User is not available\n",
      "User is available\n",
      "User is available\n",
      "User is not available\n"
     ]
    }
   ],
   "source": [
    "for newuser in new_users:\n",
    "    if newuser in current_users:\n",
    "        print(\"User is not available\")\n",
    "    else :\n",
    "        print (\"User is available\")"
   ]
  },
  {
   "cell_type": "code",
   "execution_count": null,
   "metadata": {},
   "outputs": [],
   "source": []
  },
  {
   "cell_type": "code",
   "execution_count": null,
   "metadata": {},
   "outputs": [],
   "source": []
  },
  {
   "cell_type": "markdown",
   "metadata": {},
   "source": [
    "# Q12:"
   ]
  },
  {
   "cell_type": "markdown",
   "metadata": {},
   "source": [
    "Use a dictionary to store information about a person you know.\n",
    "Store their first name, last name, age, and the city in which they live. \n",
    "You should have keys such as first_name, last_name, age, and city. \n",
    "Print each piece of information stored in your dictionary"
   ]
  },
  {
   "cell_type": "code",
   "execution_count": 18,
   "metadata": {},
   "outputs": [
    {
     "name": "stdout",
     "output_type": "stream",
     "text": [
      "Azaan\n",
      "shah\n",
      "25\n",
      "Karachi\n"
     ]
    }
   ],
   "source": [
    "dic = {'first_name':'Azaan', 'last_name':'shah', 'age':'25', 'city':'Karachi'}\n",
    "print(dic[\"first_name\"])\n",
    "print(dic[\"last_name\"])\n",
    "print(dic[\"age\"])\n",
    "print(dic[\"city\"])"
   ]
  },
  {
   "cell_type": "code",
   "execution_count": null,
   "metadata": {},
   "outputs": [],
   "source": []
  },
  {
   "cell_type": "code",
   "execution_count": null,
   "metadata": {},
   "outputs": [],
   "source": []
  },
  {
   "cell_type": "code",
   "execution_count": null,
   "metadata": {},
   "outputs": [],
   "source": []
  },
  {
   "cell_type": "markdown",
   "metadata": {},
   "source": [
    "# Q13:"
   ]
  },
  {
   "cell_type": "markdown",
   "metadata": {},
   "source": [
    "Starts with your last question 12 , loop through the dictionary’s keys and values.\n",
    "When you’re sure that your loop works, add five more Python terms to your\n",
    "dictionary . When you run your program again, these new words and meanings\n",
    "should automatically be included in the output."
   ]
  },
  {
   "cell_type": "code",
   "execution_count": 19,
   "metadata": {},
   "outputs": [
    {
     "name": "stdout",
     "output_type": "stream",
     "text": [
      "The FIRST_NAME runs through AZAAN.\n",
      "The LAST_NAME runs through SHAH.\n",
      "The AGE runs through 25.\n",
      "The CITY runs through KARACHI.\n"
     ]
    }
   ],
   "source": [
    "for key,value in dic.items():\n",
    "    print(f\"The {key.upper()} runs through {value.upper()}.\")"
   ]
  },
  {
   "cell_type": "code",
   "execution_count": 20,
   "metadata": {},
   "outputs": [
    {
     "name": "stdout",
     "output_type": "stream",
     "text": [
      "The FIRST_NAME runs through AZAAN.\n",
      "The LAST_NAME runs through SHAH.\n",
      "The AGE runs through 25.\n",
      "The CITY runs through KARACHI.\n",
      "The PRINT1 runs through THIS FUNCTION PRINT MESSAGE1.\n",
      "The PRINT2 runs through THIS FUNCTION PRINT MESSAGE2.\n",
      "The PRINT3 runs through THIS FUNCTION PRINT MESSAGE3.\n",
      "The PRINT4 runs through THIS FUNCTION PRINT MESSAGE4.\n",
      "The PRINT5 runs through THIS FUNCTION PRINT MESSAGE5.\n"
     ]
    }
   ],
   "source": [
    "dic['print1']='this function print Message1'\n",
    "dic['print2']='this function print Message2'\n",
    "dic['print3']='this function print Message3'\n",
    "dic['print4']='this function print Message4'\n",
    "dic['print5']='this function print Message5'\n",
    "\n",
    "for key,value in dic.items():\n",
    "    print(f\"The {key.upper()} runs through {value.upper()}.\")\n"
   ]
  },
  {
   "cell_type": "code",
   "execution_count": null,
   "metadata": {},
   "outputs": [],
   "source": []
  },
  {
   "cell_type": "code",
   "execution_count": null,
   "metadata": {},
   "outputs": [],
   "source": []
  },
  {
   "cell_type": "code",
   "execution_count": null,
   "metadata": {},
   "outputs": [],
   "source": []
  },
  {
   "cell_type": "markdown",
   "metadata": {},
   "source": [
    "# Q14:"
   ]
  },
  {
   "cell_type": "markdown",
   "metadata": {},
   "source": [
    "Make a dictionary containing three major rivers and the country\n",
    "each river runs through. One key-value pair might be 'nile': 'egypt'.\n",
    "    \n",
    "    \n",
    "•\t Use a loop to print a sentence about each river, such as The Nile runs\n",
    "through Egypt.\n",
    "\n",
    "NOTE: use upper case through keys and values."
   ]
  },
  {
   "cell_type": "code",
   "execution_count": 22,
   "metadata": {},
   "outputs": [
    {
     "name": "stdout",
     "output_type": "stream",
     "text": [
      "The Nile runs through Egypt.\n",
      "The Lena runs through Russia.\n",
      "The Indus runs through Pakistan.\n"
     ]
    }
   ],
   "source": [
    "rivers={'nile':'Egypt','lena':'Russia','Indus':'Pakistan'}\n",
    "for key,values in rivers.items():\n",
    "    print(f\"The {key.title()} runs through {values.title()}.\")"
   ]
  },
  {
   "cell_type": "code",
   "execution_count": null,
   "metadata": {},
   "outputs": [],
   "source": []
  },
  {
   "cell_type": "code",
   "execution_count": null,
   "metadata": {},
   "outputs": [],
   "source": []
  },
  {
   "cell_type": "markdown",
   "metadata": {},
   "source": [
    "# Q15:"
   ]
  },
  {
   "cell_type": "markdown",
   "metadata": {},
   "source": [
    "Make several dictionaries, where the name of each dictionary is the\n",
    "name of a pet. In each dictionary, include the kind of animal and the owner’s\n",
    "name. Store these dictionaries in a list called pets. Next, loop through your list\n",
    "and as you do print everything you know about each pet."
   ]
  },
  {
   "cell_type": "code",
   "execution_count": 24,
   "metadata": {},
   "outputs": [
    {
     "name": "stdout",
     "output_type": "stream",
     "text": [
      "kind : Mammals\n",
      "owner's name : Ahmed\n",
      "kind : Mammals\n",
      "owner's name : john\n",
      "kind : Bird\n",
      "owner's name : Arsalan\n"
     ]
    }
   ],
   "source": [
    "cat = {'kind':'Mammals',\"owner's name\":'john'}\n",
    "\n",
    "dog = {'kind':'Mammals',\"owner's name\":'Ahmed'}\n",
    "\n",
    "parrot = {'kind':'Bird',\"owner's name\":'Arsalan'}\n",
    "\n",
    "pets = [dog,cat,parrot]\n",
    "\n",
    "\n",
    "for pet in pets:\n",
    "    for key,value in pet.items():\n",
    "        print(key+ \" : \" +value)\n",
    "    #    print()"
   ]
  }
 ],
 "metadata": {
  "kernelspec": {
   "display_name": "Python 3",
   "language": "python",
   "name": "python3"
  },
  "language_info": {
   "codemirror_mode": {
    "name": "ipython",
    "version": 3
   },
   "file_extension": ".py",
   "mimetype": "text/x-python",
   "name": "python",
   "nbconvert_exporter": "python",
   "pygments_lexer": "ipython3",
   "version": "3.7.0"
  }
 },
 "nbformat": 4,
 "nbformat_minor": 2
}
