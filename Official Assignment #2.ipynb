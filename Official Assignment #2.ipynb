{
 "cells": [
  {
   "cell_type": "markdown",
   "metadata": {},
   "source": [
    "# Assignment # 2 : ToDo List"
   ]
  },
  {
   "cell_type": "code",
   "execution_count": 1,
   "metadata": {},
   "outputs": [],
   "source": [
    "lst_todo= ['awake','sehri','fajr', 'zohr','asar','iftar']\n",
    "lst_work_done=[]"
   ]
  },
  {
   "cell_type": "code",
   "execution_count": 2,
   "metadata": {},
   "outputs": [
    {
     "name": "stdout",
     "output_type": "stream",
     "text": [
      "Your to do list before starting the task : ['awake', 'sehri', 'fajr', 'zohr', 'asar', 'iftar']\n",
      "Enter task which you have to do awaKE\n",
      "You have entered input as : awake\n",
      "Now, your todo list is :['sehri', 'fajr', 'zohr', 'asar', 'iftar']\n",
      "Now, you have done :awake\n",
      "You have completed these tasks :['awake']\n"
     ]
    }
   ],
   "source": [
    "if lst_todo != []:    \n",
    "    print(\"Your to do list before starting the task :\", lst_todo)\n",
    "    user_input= input(\"Enter task which you have to do \").lower()\n",
    "    print(\"You have entered input as :\",user_input)\n",
    "    #print(user_input)\n",
    "    if user_input in lst_todo:\n",
    "        #lst_todo.pop(lst_todo.index(user_input))\n",
    "        #lst_work_done.append(user_input)\n",
    "        lst_work_done.append(lst_todo.pop(lst_todo.index(user_input)))\n",
    "        print(f\"Now, your todo list is :{lst_todo}\")\n",
    "        print(f\"Now, you have done :{user_input}\")   \n",
    "        print(f\"You have completed these tasks :{lst_work_done}\")\n",
    "    else :\n",
    "        print(\"The value you entered is not in the todo list\")\n",
    "else :\n",
    "    print(\"Your TODO list is empty.\")"
   ]
  }
 ],
 "metadata": {
  "kernelspec": {
   "display_name": "Python 3",
   "language": "python",
   "name": "python3"
  },
  "language_info": {
   "codemirror_mode": {
    "name": "ipython",
    "version": 3
   },
   "file_extension": ".py",
   "mimetype": "text/x-python",
   "name": "python",
   "nbconvert_exporter": "python",
   "pygments_lexer": "ipython3",
   "version": "3.7.0"
  }
 },
 "nbformat": 4,
 "nbformat_minor": 2
}
